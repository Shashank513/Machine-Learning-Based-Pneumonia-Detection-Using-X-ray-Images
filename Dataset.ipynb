{
 "cells": [
  {
   "cell_type": "markdown",
   "metadata": {
    "id": "q1EW_qQws1kY"
   },
   "source": [
    "# Preliminaries\n"
   ]
  },
  {
   "cell_type": "code",
   "execution_count": 1,
   "metadata": {
    "id": "RKP_KKmhN2UN"
   },
   "outputs": [],
   "source": [
    "import os\n",
    "import shutil"
   ]
  },
  {
   "cell_type": "code",
   "execution_count": 59,
   "metadata": {
    "id": "_6L3uTpq56jl"
   },
   "outputs": [],
   "source": [
    "normal = 0\n",
    "bacterial = 0\n",
    "viral = 0"
   ]
  },
  {
   "cell_type": "markdown",
   "metadata": {
    "id": "QsNLI7PLc8gy"
   },
   "source": [
    "# Create and organize dataset"
   ]
  },
  {
   "cell_type": "markdown",
   "metadata": {
    "id": "SWWkSNpBt1V4"
   },
   "source": [
    "## Dataset: [COVID-19 Radiography Database](https://www.kaggle.com/tawsifurrahman/covid19-radiography-database)"
   ]
  },
  {
   "cell_type": "code",
   "execution_count": 3,
   "metadata": {
    "id": "1g8QGTy_tGMe"
   },
   "outputs": [],
   "source": [
    "os.environ['KAGGLE_CONFIG_DIR'] = \"C:/Users/User/Desktop/project/database/1/COVID-19_Radiography_Dataset\""
   ]
  },
  {
   "cell_type": "code",
   "execution_count": 29,
   "metadata": {
    "id": "Q88UvNa1OKyE"
   },
   "outputs": [
    {
     "name": "stdout",
     "output_type": "stream",
     "text": [
      "C:\\Users\\User\\Desktop\\project\\database\\1\\COVID-19_Radiography_Dataset\n"
     ]
    }
   ],
   "source": [
    "import os\n",
    "\n",
    "# Change the current working directory\n",
    "os.chdir(\"C:/Users/User/Desktop/project/database/1/COVID-19_Radiography_Dataset\")\n",
    "\n",
    "# Verify that the current working directory has been changed\n",
    "print(os.getcwd())"
   ]
  },
  {
   "cell_type": "markdown",
   "metadata": {
    "id": "7CnGlisHxtCm"
   },
   "source": [
    "### Copy Images"
   ]
  },
  {
   "cell_type": "markdown",
   "metadata": {
    "id": "cjdg-1Qp2mEq"
   },
   "source": [
    "Copy normal images to main_project/normal"
   ]
  },
  {
   "cell_type": "code",
   "execution_count": 65,
   "metadata": {},
   "outputs": [
    {
     "name": "stdout",
     "output_type": "stream",
     "text": [
      "Current directory: C:\\Users\\User\\Desktop\\project\\database\\1\\COVID-19_Radiography_Dataset\\Normal\\images\n",
      "normal: 2780 \t bacterial: 0 \t viral: 0\n"
     ]
    }
   ],
   "source": [
    "import os\n",
    "import shutil\n",
    "\n",
    "normal_folder = 'C:/Users/User/Desktop/project/database/1/COVID-19_Radiography_Dataset/Normal/images'\n",
    "os.chdir(normal_folder)  # Change the current directory to normal_folder\n",
    "print(\"Current directory:\", os.getcwd())  # Print the current directory\n",
    "\n",
    "normal = 0\n",
    "bacterial = 0\n",
    "viral = 0\n",
    "\n",
    "target_folder = 'C:/Users/User/Desktop/project/database/3/Normal'\n",
    "if not os.path.exists(target_folder):  # Check if the target folder exists, if not, create it\n",
    "    os.makedirs(target_folder)\n",
    "\n",
    "files = os.listdir(normal_folder)\n",
    "for f in files:\n",
    "    if 'Normal' in f and normal < 2780:\n",
    "        normal += 1\n",
    "        shutil.copy(os.path.join(normal_folder, f), target_folder)  # Copy the file to target_folder\n",
    "\n",
    "print(\"normal:\", normal, \"\\t bacterial:\", bacterial, \"\\t viral:\", viral)\n"
   ]
  },
  {
   "cell_type": "markdown",
   "metadata": {
    "id": "3P8hPKCKvZCJ"
   },
   "source": [
    "Copy viral pneumonia images to main_project/Viral"
   ]
  },
  {
   "cell_type": "code",
   "execution_count": 70,
   "metadata": {},
   "outputs": [
    {
     "name": "stdout",
     "output_type": "stream",
     "text": [
      "Current directory: C:\\Users\\User\\Desktop\\project\\database\\1\\COVID-19_Radiography_Dataset\\Viral Pneumonia\\images\n",
      "normal: 0 \t bacterial: 0 \t viral: 1345\n",
      "viral: 1345\n"
     ]
    }
   ],
   "source": [
    "import os\n",
    "import shutil\n",
    "\n",
    "viral_folder = 'C:/Users/User/Desktop/project/database/1/COVID-19_Radiography_Dataset/Viral Pneumonia/images'\n",
    "os.chdir(viral_folder)  # Change the current directory to viral_folder\n",
    "print(\"Current directory:\", os.getcwd())  # Print the current directory\n",
    "\n",
    "viral = 0\n",
    "\n",
    "target_folder = 'C:/Users/User/Desktop/project/database/3/Viral'\n",
    "if not os.path.exists(target_folder):  # Check if the target folder exists, if not, create it\n",
    "    os.makedirs(target_folder)\n",
    "\n",
    "files = os.listdir(viral_folder)\n",
    "for f in files:\n",
    "    if 'Viral' in f and viral < 2780:\n",
    "        viral += 1\n",
    "        shutil.copy(os.path.join(viral_folder, f), target_folder)  # Copy the file to target_folder\n",
    "print(\"normal:\", normal, \"\\t bacterial:\", bacterial, \"\\t viral:\", viral)\n",
    "print(\"viral:\", viral)\n"
   ]
  },
  {
   "cell_type": "markdown",
   "metadata": {
    "id": "rfuebZ0_wT7m"
   },
   "source": [
    "## Dataset: [Chest X-ray Images Pneumonia](https://www.kaggle.com/paultimothymooney/chest-xray-pneumonia)"
   ]
  },
  {
   "cell_type": "code",
   "execution_count": 41,
   "metadata": {
    "id": "kkQQGQjMwTYZ"
   },
   "outputs": [],
   "source": [
    "os.environ['KAGGLE_CONFIG_DIR'] = \"C:/Users/User/Desktop/project/database/1/chest_xray\""
   ]
  },
  {
   "cell_type": "markdown",
   "metadata": {
    "id": "g7owGZPCzHcp"
   },
   "source": [
    "### Copy Images"
   ]
  },
  {
   "cell_type": "markdown",
   "metadata": {
    "id": "edjmbTWbzDV_"
   },
   "source": [
    "Copy bacterial and viral pneumonia images from train folder to main_project/Bacterial and main_project/Viral"
   ]
  },
  {
   "cell_type": "code",
   "execution_count": 71,
   "metadata": {},
   "outputs": [
    {
     "name": "stdout",
     "output_type": "stream",
     "text": [
      "Current directory: C:\\Users\\User\\Desktop\\project\\database\\1\\chest_xray\\train\\PNEUMONIA\n",
      "normal: 0 \t bacterial: 2530 \t viral: 1345\n"
     ]
    }
   ],
   "source": [
    "import os\n",
    "import shutil\n",
    "\n",
    "pneumonia_folder = 'C:/Users/User/Desktop/project/database/1/chest_xray/train/PNEUMONIA'\n",
    "os.chdir(pneumonia_folder)  # Change the current directory to pneumonia_folder\n",
    "print(\"Current directory:\", os.getcwd())  # Print the current directory\n",
    "\n",
    "normal = 0\n",
    "bacterial = 0\n",
    "viral = 0\n",
    "\n",
    "target_bacterial_folder = 'C:/Users/User/Desktop/project/database/3/Bacterial'\n",
    "target_viral_folder = 'C:/Users/User/Desktop/project/database/3/Viral'\n",
    "\n",
    "if not os.path.exists(target_bacterial_folder):  # Check if the bacterial target folder exists, if not, create it\n",
    "    os.makedirs(target_bacterial_folder)\n",
    "\n",
    "if not os.path.exists(target_viral_folder):  # Check if the viral target folder exists, if not, create it\n",
    "    os.makedirs(target_viral_folder)\n",
    "\n",
    "files = os.listdir(pneumonia_folder)\n",
    "for f in files:\n",
    "    if 'bacteria' in f and bacterial < 2780:\n",
    "        bacterial += 1\n",
    "        shutil.copy(os.path.join(pneumonia_folder, f), target_bacterial_folder)  # Copy the file to the bacterial target folder\n",
    "    elif 'virus' in f and viral < 2780:\n",
    "        viral += 1\n",
    "        shutil.copy(os.path.join(pneumonia_folder, f), target_viral_folder)  # Copy the file to the viral target folder\n",
    "\n",
    "print(\"normal:\", normal, \"\\t bacterial:\", bacterial, \"\\t viral:\", viral)\n"
   ]
  },
  {
   "cell_type": "markdown",
   "metadata": {
    "id": "JaAj25qwz4yI"
   },
   "source": [
    "Copy the 8 bacterial pneumonia images in val folder to main_project/Bacterial"
   ]
  },
  {
   "cell_type": "code",
   "execution_count": 72,
   "metadata": {},
   "outputs": [
    {
     "name": "stdout",
     "output_type": "stream",
     "text": [
      "Current directory: C:\\Users\\User\\Desktop\\project\\database\\1\\chest_xray\\val\\PNEUMONIA\n",
      "normal: 0 \t bacterial: 8 \t viral: 0\n"
     ]
    }
   ],
   "source": [
    "import os\n",
    "import shutil\n",
    "\n",
    "pneumonia_folder = 'C:/Users/User/Desktop/project/database/1/chest_xray/val/PNEUMONIA'\n",
    "os.chdir(pneumonia_folder)  # Change the current directory to pneumonia_folder\n",
    "print(\"Current directory:\", os.getcwd())  # Print the current directory\n",
    "\n",
    "bacterial = 0\n",
    "viral = 0\n",
    "\n",
    "target_bacterial_folder = 'C:/Users/User/Desktop/project/database/3/Bacterial'\n",
    "\n",
    "if not os.path.exists(target_bacterial_folder):  # Check if the bacterial target folder exists, if not, create it\n",
    "    os.makedirs(target_bacterial_folder)\n",
    "\n",
    "files = os.listdir(pneumonia_folder)\n",
    "for f in files:\n",
    "    if 'bacteria' in f and bacterial < 2780:\n",
    "        bacterial += 1\n",
    "        shutil.copy(os.path.join(pneumonia_folder, f), target_bacterial_folder)  # Copy the file to the bacterial target folder\n",
    "\n",
    "print(\"normal:\", normal, \"\\t bacterial:\", bacterial, \"\\t viral:\", viral)\n"
   ]
  },
  {
   "cell_type": "markdown",
   "metadata": {
    "id": "LMMc3ieVcrca"
   },
   "source": [
    "# Convert dataset to h5 file"
   ]
  },
  {
   "cell_type": "markdown",
   "metadata": {
    "id": "m9PED4sqdk7B"
   },
   "source": [
    "### Normalize and write data to h5 file"
   ]
  },
  {
   "cell_type": "code",
   "execution_count": 73,
   "metadata": {
    "id": "a_LB7CRYcqeW"
   },
   "outputs": [],
   "source": [
    "def normalize_and_write_data_into_h5_file(dest_filepath, filepaths_list, n_px, n_channels = 3):\n",
    "    \n",
    "    '''\n",
    "        This function converts images to numpy arrays and writes the array data into a h5 file.\n",
    "        \n",
    "        dest_filepath - the name of the file with full path that is being created\n",
    "        filepaths_list - source image file paths which is being converted to numpy arrays\n",
    "        n_px - number of pixels - will be used as image's height and width\n",
    "        n_channels - 3 for rgb\n",
    "    '''\n",
    "    \n",
    "    data_shape = (len(filepaths_list), n_px * n_px * n_channels)\n",
    "    dataset_name = \"input_data\"\n",
    "\n",
    "    with h5py.File(dest_filepath, 'a') as f:\n",
    "        \n",
    "        f.create_dataset(dataset_name, data_shape, np.float32)\n",
    "        \n",
    "        for i in range(len(filepaths_list)):\n",
    "            #if (i+1) % 512 == 0:\n",
    "            #    print('{}/{} files converted'.format((i+1), len(filepaths_list)))\n",
    "\n",
    "            filepath = filepaths_list[i]\n",
    "            img = cv2.imread(filepath)\n",
    "            img = cv2.resize(img, (n_px, n_px), interpolation=cv2.INTER_CUBIC)\n",
    "            img = cv2.cvtColor(img, cv2.COLOR_BGR2GRAY) # To convert colormap from BGR to GRAY\n",
    "            \n",
    "            #Normalize the image - convert the each pixel value between 0 and 1\n",
    "            img = img / 255\n",
    "            #Reshape the image - roll it up into a column vector\n",
    "            img = img.ravel()\n",
    "            \n",
    "            #img[None] makes it a proper array instead of rank 1 array\n",
    "            f[dataset_name][i, ...] = img[None]"
   ]
  },
  {
   "cell_type": "markdown",
   "metadata": {
    "id": "BZI7uI7CeWTf"
   },
   "source": [
    "### Write labels"
   ]
  },
  {
   "cell_type": "markdown",
   "metadata": {
    "id": "8tAPi8gydyNk"
   },
   "source": [
    "Write corresponding labels for each image into the h5 file"
   ]
  },
  {
   "cell_type": "code",
   "execution_count": 74,
   "metadata": {
    "id": "03OWNNMMduIG"
   },
   "outputs": [],
   "source": [
    "def write_labels_into_h5_file(dest_filepath, labels):\n",
    "    dataset_name = \"input_labels\"\n",
    "    with h5py.File(dest_filepath, 'a') as f:\n",
    "        f.create_dataset(dataset_name, (len(labels),), np.int8)\n",
    "        f[dataset_name][...] = labels"
   ]
  },
  {
   "cell_type": "markdown",
   "metadata": {
    "id": "ZPtIOKCmedPG"
   },
   "source": [
    "### Set labels"
   ]
  },
  {
   "cell_type": "markdown",
   "metadata": {
    "id": "B0RLXvn4eAub"
   },
   "source": [
    "Numbers for labelling\n",
    "- 0: Normal\n",
    "- 1: Bacterial\n",
    "- 2: Viral"
   ]
  },
  {
   "cell_type": "code",
   "execution_count": 75,
   "metadata": {
    "id": "gM9aQH3ldt7c"
   },
   "outputs": [],
   "source": [
    "def set_label(filepath):\n",
    "  if 'Bacterial' in filepath:\n",
    "    return 1\n",
    "  elif 'Viral' in filepath:\n",
    "    return 2\n",
    "  else:\n",
    "    return 0"
   ]
  },
  {
   "cell_type": "markdown",
   "metadata": {
    "id": "bmMVs0TneGdz"
   },
   "source": [
    "### Combined function for converting images and writing labels"
   ]
  },
  {
   "cell_type": "code",
   "execution_count": 76,
   "metadata": {
    "id": "XmLOed2bdtv0"
   },
   "outputs": [],
   "source": [
    "def convert_images_to_data_in_h5_file(src_img_filepath, dest_h5_file_path, n_px, n_channels = 3, batch_size = 1024):\n",
    "    \n",
    "    # Returns a list of filepaths ending with .jpeg or .png extension in the source directory and its sub-directories\n",
    "    src_filepaths = [\n",
    "                     os.path.join(dp, f) \n",
    "                     for dp, dn, filenames in os.walk(src_img_filepath) \n",
    "                     for f in filenames \n",
    "                     if os.path.splitext(f)[1] in ['.jpeg', '.png']\n",
    "                     ]\n",
    "    print('total no. of images = ', len(src_filepaths))\n",
    "    # Create Labels based upon the substring contained in the filename\n",
    "    labels = [set_label(filepath) for filepath in src_filepaths]\n",
    "\n",
    "    count_normal, count_bacterial, count_viral = 0, 0, 0\n",
    "    for l in labels:\n",
    "      if l == 0:\n",
    "        count_normal+=1\n",
    "      elif l==1:\n",
    "        count_bacterial+=1\n",
    "      else:\n",
    "        count_viral+=1\n",
    "    print('Normal:', count_normal, '\\t Bacterial:', count_bacterial, '\\t Viral:', count_viral)\n",
    "    \n",
    "    #The zip(source_filepaths, labels) combines each element of source_filepaths list \n",
    "    #with each element of labels list forming a pair (tuple). t is the list which contains these tuples\n",
    "    t = list(zip(src_filepaths, labels))\n",
    "\n",
    "    #Shuffle the list\n",
    "    shuffle(t)\n",
    "    \n",
    "    #Get the shuffled filepaths & labels\n",
    "    src_filepaths, labels = zip(*t)\n",
    "    \n",
    "    #Number of images\n",
    "    m = len(src_filepaths)\n",
    "    n_complete_batches = math.ceil(m / batch_size)\n",
    "\n",
    "    print('No. of complete batches = ', n_complete_batches)\n",
    "    \n",
    "    for i in range(n_complete_batches):\n",
    "        print('Creating file', (i+1))\n",
    "        \n",
    "        dest_file_path = dest_h5_file_path + str(i + 1) + \".h5\"   \n",
    "        \n",
    "        start_pos = i * batch_size\n",
    "        end_pos = min(start_pos + batch_size, m)\n",
    "        src_filepaths_batch = src_filepaths[start_pos: end_pos]\n",
    "        labels_batch = labels[start_pos: end_pos]\n",
    "        \n",
    "        normalize_and_write_data_into_h5_file(dest_file_path, src_filepaths_batch, n_px, n_channels)\n",
    "        write_labels_into_h5_file(dest_file_path, labels_batch)\n",
    "    return n_complete_batches"
   ]
  },
  {
   "cell_type": "markdown",
   "metadata": {
    "id": "YXer_6SjexHG"
   },
   "source": [
    "## Create h5 files"
   ]
  },
  {
   "cell_type": "code",
   "execution_count": 77,
   "metadata": {
    "id": "rHfX4UNifLHb"
   },
   "outputs": [],
   "source": [
    "mkdir -p C:\\Users\\User\\Desktop\\project\\database\\3\\main_project\\dataseth5"
   ]
  },
  {
   "cell_type": "code",
   "execution_count": 78,
   "metadata": {
    "id": "yz3SubRHdtiJ"
   },
   "outputs": [],
   "source": [
    "# root directory for image files\n",
    "root_dir = 'C:/Users/User/Desktop/project/database/3'"
   ]
  },
  {
   "cell_type": "code",
   "execution_count": 79,
   "metadata": {
    "id": "nwQiasNWh-ys"
   },
   "outputs": [],
   "source": [
    "# image shape parameters\n",
    "n_px = 128\n",
    "n_channels = 1"
   ]
  },
  {
   "cell_type": "markdown",
   "metadata": {
    "id": "vbJcPEsrguKl"
   },
   "source": [
    "Divide dataset to 10 batches and convert to h5 files"
   ]
  },
  {
   "cell_type": "code",
   "execution_count": 86,
   "metadata": {
    "scrolled": true
   },
   "outputs": [
    {
     "name": "stdout",
     "output_type": "stream",
     "text": [
      "total no. of images =  8008\n",
      "Normal: 2780 \t Bacterial: 2538 \t Viral: 2690\n",
      "No. of complete batches =  10\n",
      "Creating file 1\n",
      "Creating file 2\n",
      "Creating file 3\n",
      "Creating file 4\n",
      "Creating file 5\n",
      "Creating file 6\n",
      "Creating file 7\n",
      "Creating file 8\n",
      "Creating file 9\n",
      "Creating file 10\n",
      "No. of complete batches =  10 \n",
      " Time taken for creating the h5 files is 71828.125 ms\n"
     ]
    }
   ],
   "source": [
    "import time\n",
    "import h5py\n",
    "import numpy as np  # Import NumPy\n",
    "import cv2\n",
    "\n",
    "# destination file path including filename (starting), for each batch\n",
    "dest_h5_file_path = 'C:/Users/User/Desktop/project/database/3/main_project/dataseth6'\n",
    "\n",
    "# divides dataset to 10\n",
    "batch_size = int(2780 * 3 / 10)\n",
    "\n",
    "# create h5 files\n",
    "tic = time.process_time()\n",
    "n_complete_batches = convert_images_to_data_in_h5_file(root_dir, dest_h5_file_path, n_px, n_channels, batch_size)\n",
    "toc = time.process_time()\n",
    "print('No. of complete batches = ', n_complete_batches, '\\n Time taken for creating the h5 files is', (toc-tic)*1000, 'ms')\n"
   ]
  },
  {
   "cell_type": "markdown",
   "metadata": {
    "id": "BNRNc8DvgnhZ"
   },
   "source": [
    "Convert complete dataset to h5 file"
   ]
  },
  {
   "cell_type": "code",
   "execution_count": 87,
   "metadata": {
    "id": "xLJ8rdxff1LO"
   },
   "outputs": [
    {
     "name": "stdout",
     "output_type": "stream",
     "text": [
      "total no. of images =  8008\n",
      "Normal: 2780 \t Bacterial: 2538 \t Viral: 2690\n",
      "No. of complete batches =  1\n",
      "Creating file 1\n",
      "Time taken for creating the h5 file is 69859.375 ms\n"
     ]
    }
   ],
   "source": [
    "# destination file path including filename (starting), for complete dataset\n",
    "dest_filepath = 'C:/Users/User/Desktop/project/database/3/main_project/complete_dataseth5_'\n",
    "\n",
    "batch_size = 2780 * 3\n",
    "\n",
    "# create h5 file\n",
    "tic = time.process_time()\n",
    "convert_images_to_data_in_h5_file(root_dir, dest_filepath, n_px, n_channels, batch_size)\n",
    "toc = time.process_time()\n",
    "print('Time taken for creating the h5 file is', (toc-tic)*1000, 'ms')"
   ]
  },
  {
   "cell_type": "markdown",
   "metadata": {
    "id": "d-JNzAzmjKYv"
   },
   "source": [
    "# Loading data"
   ]
  },
  {
   "cell_type": "markdown",
   "metadata": {
    "id": "tPiXQUWmkJJW"
   },
   "source": [
    "Load a single h5 file to arrays x and y"
   ]
  },
  {
   "cell_type": "code",
   "execution_count": 102,
   "metadata": {
    "id": "Pkuw7vrgkIMS"
   },
   "outputs": [],
   "source": [
    "batch_no = 1\n",
    "with h5py.File('C:/Users/User/Desktop/project/database/3/main_project/dataseth6'+ str(batch_no) + '.h5', \"r\") as f:\n",
    "  x = f[\"input_data\"][:]\n",
    "  y = f[\"input_labels\"][:]"
   ]
  },
  {
   "cell_type": "markdown",
   "metadata": {
    "id": "ImQO9oQLjm1P"
   },
   "source": [
    "Combine data from all batches and load to arrays x and y"
   ]
  },
  {
   "cell_type": "code",
   "execution_count": 103,
   "metadata": {
    "id": "xERR6ks0jO89"
   },
   "outputs": [
    {
     "name": "stdout",
     "output_type": "stream",
     "text": [
      "x shape = (8008, 128, 128, 1) | y shape = (8008,)\n"
     ]
    }
   ],
   "source": [
    "for j in range(n_complete_batches):\n",
    "  with h5py.File('C:/Users/User/Desktop/project/database/3/main_project/dataseth6'+ str(j+1) + '.h5', \"r\") as f:\n",
    "    if j == 0:\n",
    "      x = f[\"input_data\"][:]\n",
    "      y = f[\"input_labels\"][:]\n",
    "    else:\n",
    "      x = np.concatenate((x, f[\"input_data\"][:]), axis=0)\n",
    "      y = np.concatenate((y, f[\"input_labels\"][:]), axis=0)\n",
    "  f.close()\n",
    "x = np.reshape(x, (x.shape[0], 128, 128, 1))\n",
    "print('x shape =', x.shape, '| y shape =', y.shape)"
   ]
  },
  {
   "cell_type": "code",
   "execution_count": null,
   "metadata": {},
   "outputs": [],
   "source": []
  }
 ],
 "metadata": {
  "colab": {
   "collapsed_sections": [
    "SWWkSNpBt1V4",
    "_2Ko0tH81Nu3",
    "7CnGlisHxtCm",
    "rfuebZ0_wT7m"
   ],
   "include_colab_link": true,
   "name": "Dataset.ipynb",
   "provenance": []
  },
  "kernelspec": {
   "display_name": "Python 3 (ipykernel)",
   "language": "python",
   "name": "python3"
  },
  "language_info": {
   "codemirror_mode": {
    "name": "ipython",
    "version": 3
   },
   "file_extension": ".py",
   "mimetype": "text/x-python",
   "name": "python",
   "nbconvert_exporter": "python",
   "pygments_lexer": "ipython3",
   "version": "3.9.13"
  }
 },
 "nbformat": 4,
 "nbformat_minor": 1
}
